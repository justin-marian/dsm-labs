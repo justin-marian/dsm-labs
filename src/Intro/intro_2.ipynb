{
  "cells": [
    {
      "cell_type": "markdown",
      "metadata": {
        "colab_type": "text",
        "id": "view-in-github"
      },
      "source": [
        "<a href=\"https://colab.research.google.com/github/cosmaadrian/ml-environment/blob/master/EP_Plotting_II.ipynb\" target=\"_parent\"><img src=\"https://colab.research.google.com/assets/colab-badge.svg\" alt=\"Open In Colab\"/></a>"
      ]
    },
    {
      "cell_type": "markdown",
      "metadata": {
        "id": "l9-dHwgaFu7u"
      },
      "source": [
        "# Data Manipulation & Advanced Plotting (pandas, seaborn & 3D Plotting)\n",
        "\n",
        "In this lab, we will study data manipulation and visualization using **pandas**, and explore the high level API of **seaborn** for generating visually appealing plots. We will also take a look at 3D plotting using **mplot3d**. "
      ]
    },
    {
      "cell_type": "code",
      "execution_count": null,
      "metadata": {},
      "outputs": [],
      "source": [
        "!pip install tabulate\n",
        "!pip install sqlalchemy\n",
        "!pip install sqlalchemy\n",
        "!pip install sqlite3\n",
        "!pip install psycopg2\n",
        "!pip install pymysql"
      ]
    },
    {
      "cell_type": "code",
      "execution_count": null,
      "metadata": {
        "id": "Ujj-4TxUU11N"
      },
      "outputs": [],
      "source": [
        "# Some IPython magic\n",
        "# Put these at the top of every notebook, to get automatic reloading and inline plotting\n",
        "%reload_ext autoreload\n",
        "%autoreload 2\n",
        "\n",
        "import numpy as np\n",
        "import matplotlib.pyplot as plt\n",
        "%matplotlib inline"
      ]
    },
    {
      "cell_type": "markdown",
      "metadata": {
        "id": "MviU1wrrpq63"
      },
      "source": [
        "Check out these cheetsheets for fast reference to the common libraries:\n",
        "\n",
        "**Cheat sheets:**\n",
        "- [python](https://perso.limsi.fr/pointal/_media/python:cours:mementopython3-english.pdf)\n",
        "- [numpy](https://s3.amazonaws.com/assets.datacamp.com/blog_assets/Numpy_Python_Cheat_Sheet.pdf)\n",
        "- [matplotlib](https://s3.amazonaws.com/assets.datacamp.com/blog_assets/Python_Matplotlib_Cheat_Sheet.pdf)\n",
        "- [sklearn](https://s3.amazonaws.com/assets.datacamp.com/blog_assets/Scikit_Learn_Cheat_Sheet_Python.pdf)\n",
        "- [pandas](https://github.com/pandas-dev/pandas/blob/master/doc/cheatsheet/Pandas_Cheat_Sheet.pdf)\n",
        "\n",
        "**Other:**\n",
        "- [Probabilities & Stats Refresher](https://stanford.edu/~shervine/teaching/cs-229/refresher-probabilities-statistics)\n",
        "- [Algebra](https://stanford.edu/~shervine/teaching/cs-229/refresher-algebra-calculus)"
      ]
    },
    {
      "cell_type": "markdown",
      "metadata": {
        "id": "bb1IITuAG7-7"
      },
      "source": [
        "## Pandas Crash Course"
      ]
    },
    {
      "cell_type": "markdown",
      "metadata": {
        "id": "XcFIEs32G02-"
      },
      "source": [
        "Pandas is a high-level data manipulation tool. It is built on the Numpy package and its key data structure is called the DataFrame. DataFrames allow you to store and manipulate tabular data in rows of observations and columns of variables.\n",
        "\n",
        "Check this official guide for a started in pandas:\n",
        "\n",
        "[10 minutes to pandas](https://pandas.pydata.org/pandas-docs/stable/user_guide/10min.html)"
      ]
    },
    {
      "cell_type": "code",
      "execution_count": null,
      "metadata": {
        "id": "zcUnwHYHHgL6"
      },
      "outputs": [],
      "source": [
        "\n",
        "import pandas as pd"
      ]
    },
    {
      "cell_type": "markdown",
      "metadata": {
        "id": "5pjDG3n1HiMK"
      },
      "source": [
        "Pandas DataFrame is two-dimensional size-mutable, potentially heterogeneous tabular data structure with labeled axes (rows and columns). A Data frame is a two-dimensional data structure, i.e., data is aligned in a tabular fashion in rows and columns. Pandas DataFrame consists of three principal components, the data, rows, and columns.\n",
        "\n",
        "![](https://media.geeksforgeeks.org/wp-content/uploads/finallpandas.png)\n"
      ]
    },
    {
      "cell_type": "markdown",
      "metadata": {
        "id": "dHc51P_PDGGO"
      },
      "source": [
        "\n",
        "Let's load a publicly available *.csv* dataset into a pandas ***DataFrame***. We will use the popular *iris* dataset.\n"
      ]
    },
    {
      "cell_type": "code",
      "execution_count": null,
      "metadata": {
        "colab": {
          "base_uri": "https://localhost:8080/",
          "height": 347
        },
        "id": "AW9zCHr6HhHv",
        "outputId": "24eeddf8-029d-4de8-fa6b-89aa4a036c0f"
      },
      "outputs": [],
      "source": [
        "file_name = \"https://raw.githubusercontent.com/uiuc-cse/data-fa14/gh-pages/data/iris.csv\"\n",
        "\n",
        "df = pd.read_csv(file_name)\n",
        "df.head(n = 10)"
      ]
    },
    {
      "cell_type": "markdown",
      "metadata": {
        "id": "wejjK5vPDcdZ"
      },
      "source": [
        "A dataframe's **.describe()** method offers descriptive statistics which include those that summarize the central tendency, dispersion and shape of a dataset’s distribution, excluding NaN values."
      ]
    },
    {
      "cell_type": "code",
      "execution_count": null,
      "metadata": {
        "colab": {
          "base_uri": "https://localhost:8080/",
          "height": 287
        },
        "id": "hA_v7NB2H5Md",
        "outputId": "c7e456ec-1641-404a-f2b8-a3fd8130363f"
      },
      "outputs": [],
      "source": [
        "df.describe()"
      ]
    },
    {
      "cell_type": "markdown",
      "metadata": {
        "id": "UAFMmIQeFzio"
      },
      "source": [
        "Let's see some ways in which we can access the DataFrames' data. Each column of a pandas `DataFrame` is a pandas `Series`."
      ]
    },
    {
      "cell_type": "code",
      "execution_count": null,
      "metadata": {
        "colab": {
          "base_uri": "https://localhost:8080/"
        },
        "id": "9MZSX0C2H9TT",
        "outputId": "5137b79d-5487-46f5-8b55-3bc74e2cd54e"
      },
      "outputs": [],
      "source": [
        "df['petal_width']"
      ]
    },
    {
      "cell_type": "markdown",
      "metadata": {
        "id": "L1VRVj0amDMP"
      },
      "source": [
        "We can do any vectorized operation on a `Series`. Moreover, a pandas `Series` allows us to do conditional selection of rows in a `DataFrame`."
      ]
    },
    {
      "cell_type": "code",
      "execution_count": null,
      "metadata": {
        "colab": {
          "base_uri": "https://localhost:8080/",
          "height": 197
        },
        "id": "FA-h80byIEx-",
        "outputId": "573b95f0-2c1c-4bfe-d6cc-0dd3b2e681f2"
      },
      "outputs": [],
      "source": [
        "setosas = df[df['species'] == 'setosa']\n",
        "\n",
        "setosas.head() # only setosa species selected"
      ]
    },
    {
      "cell_type": "markdown",
      "metadata": {
        "id": "yQbgFbQ5mWfN"
      },
      "source": [
        "We can add a new column to a pandas `DataFrame`, simply by specifying its name and its contents.\n",
        "\n",
        "**NB**: the data added to the new column must be the same length as the rest of the `DataFrame`."
      ]
    },
    {
      "cell_type": "code",
      "execution_count": null,
      "metadata": {
        "colab": {
          "base_uri": "https://localhost:8080/",
          "height": 197
        },
        "id": "ql7uL-RvIrH1",
        "outputId": "676d434b-2d54-40e5-c2ad-10a6f8a26e35"
      },
      "outputs": [],
      "source": [
        "df['sepal_area'] = df['sepal_length'] * df['sepal_width'] # adding new columns\n",
        "df.head()"
      ]
    },
    {
      "cell_type": "markdown",
      "metadata": {
        "id": "tcL142tEmt1t"
      },
      "source": [
        "We can work with `Series` as we work with numpy arrays. We perform Min-Max normalization on the `petal_length` column."
      ]
    },
    {
      "cell_type": "code",
      "execution_count": null,
      "metadata": {
        "colab": {
          "base_uri": "https://localhost:8080/",
          "height": 197
        },
        "id": "Ehc4i1VEI_SE",
        "outputId": "6085ef18-d206-4465-9459-49bd43db0e1c"
      },
      "outputs": [],
      "source": [
        "# Min-Max Normalization\n",
        "df['petal_length'] = (df['petal_length'] - df['petal_length'].min()) / (df['petal_length'].max() - df['petal_length'].min())\n",
        "df.head()"
      ]
    },
    {
      "cell_type": "markdown",
      "metadata": {
        "id": "HI4bqaExnLwp"
      },
      "source": [
        "We can also use the `.apply()` method on either a `Series` or a `DataFrame` to modify its contents, or create a new column."
      ]
    },
    {
      "cell_type": "code",
      "execution_count": null,
      "metadata": {
        "colab": {
          "base_uri": "https://localhost:8080/",
          "height": 197
        },
        "id": "kJWv5iLZm5zv",
        "outputId": "747f0cf5-b73e-45ff-9db6-ef7ea791d552"
      },
      "outputs": [],
      "source": [
        "def capitalize(col):\n",
        "  return col.capitalize()\n",
        "\n",
        "df['species'] = df['species'].apply(capitalize)\n",
        "df.head()"
      ]
    },
    {
      "cell_type": "markdown",
      "metadata": {
        "id": "SxQyOo2bnagq"
      },
      "source": [
        "A `DataFrame` also has a `groupby` method, that allows us to work on groupings of rows."
      ]
    },
    {
      "cell_type": "code",
      "execution_count": null,
      "metadata": {
        "colab": {
          "base_uri": "https://localhost:8080/",
          "height": 167
        },
        "id": "piIJ8ry5IMBK",
        "outputId": "e44388bf-3c36-4fc9-933c-2670e8059859"
      },
      "outputs": [],
      "source": [
        "df.groupby('species').mean()"
      ]
    },
    {
      "cell_type": "markdown",
      "metadata": {
        "id": "9pXzS6aynyWN"
      },
      "source": [
        "We can also iterate through each group. A group is another `DataFrame`."
      ]
    },
    {
      "cell_type": "code",
      "execution_count": null,
      "metadata": {
        "colab": {
          "base_uri": "https://localhost:8080/"
        },
        "id": "HUWE5tehnorK",
        "outputId": "157b8831-335d-454c-bdd7-1af5b165d08b"
      },
      "outputs": [],
      "source": [
        "for name, group in df.groupby('species'):\n",
        "  print(\"Group:\", name)\n",
        "  print(group.head())\n",
        "  print(\"-----\")"
      ]
    },
    {
      "cell_type": "markdown",
      "metadata": {
        "id": "dBDin5fxoGg6"
      },
      "source": [
        "### Joins\n",
        "\n",
        "Pandas allows for joining two or more `DataFrames` together using a common key. We can also do vertical or horizontal concatenation .\n",
        "\n",
        "![](https://res.cloudinary.com/dyd911kmh/image/upload/f_auto,q_auto:best/v1524477162/data-frames-in-python-banner_cgzjxy.png)"
      ]
    },
    {
      "cell_type": "code",
      "execution_count": null,
      "metadata": {
        "colab": {
          "base_uri": "https://localhost:8080/",
          "height": 407
        },
        "id": "BfbaWQaEn4LR",
        "outputId": "128d64df-b17e-4b4c-e0c4-b9fcf1af6693"
      },
      "outputs": [],
      "source": [
        "df1 = pd.DataFrame({'A': ['A0', 'A1', 'A2', 'A3'],\n",
        "                     'B': ['B0', 'B1', 'B2', 'B3'],\n",
        "                     'C': ['C0', 'C1', 'C2', 'C3'],\n",
        "                     'D': ['D0', 'D1', 'D2', 'D3']})\n",
        "df2 = pd.DataFrame({'A': ['A0', 'A1', 'A4', 'A5'],\n",
        "                     'B': ['B4', 'B5', 'B6', 'B7'],\n",
        "                     'C': ['C4', 'C5', 'C6', 'C7'],\n",
        "                     'D': ['D4', 'D5', 'D6', 'D7']})\n",
        "df3 = pd.DataFrame({'A': ['A8', 'A9', 'A10', 'A11'],\n",
        "                     'B': ['B8', 'B9', 'B10', 'B11'],\n",
        "                     'C': ['C8', 'C9', 'C10', 'C11'],\n",
        "                     'D': ['D8', 'D9', 'D10', 'D11']})\n",
        "\n",
        "pd.concat([df1, df2, df3]).reset_index(drop = True)"
      ]
    },
    {
      "cell_type": "code",
      "execution_count": null,
      "metadata": {
        "colab": {
          "base_uri": "https://localhost:8080/",
          "height": 167
        },
        "id": "rBoDk3fFo3R2",
        "outputId": "aa67c66a-f583-4e2d-ecda-21ff018d05fb"
      },
      "outputs": [],
      "source": [
        "pd.merge(df1, df2, on = 'A', how = 'left')"
      ]
    },
    {
      "cell_type": "markdown",
      "metadata": {
        "id": "lyLjts1Kq3qh"
      },
      "source": [
        "## Saving `DataFrames`\n",
        "\n",
        "Pandas offers a multitude of methods for saving `DataFrames`."
      ]
    },
    {
      "cell_type": "code",
      "execution_count": null,
      "metadata": {
        "id": "5tVS9eL9rDcx"
      },
      "outputs": [],
      "source": [
        "df.to_csv('out.csv', index = False) # saves it locally, check out the files in the right tab of colab"
      ]
    },
    {
      "cell_type": "code",
      "execution_count": null,
      "metadata": {
        "colab": {
          "base_uri": "https://localhost:8080/",
          "height": 106
        },
        "id": "KYP-uA8As8lk",
        "outputId": "f4a7ae85-cab0-49e8-8c4f-ef62b477cc71"
      },
      "outputs": [],
      "source": [
        "df.to_json()"
      ]
    },
    {
      "cell_type": "code",
      "execution_count": null,
      "metadata": {
        "colab": {
          "base_uri": "https://localhost:8080/"
        },
        "id": "HmtxsnZesBq9",
        "outputId": "5d4eb3ab-536b-48fc-ecc0-c59d9b724708"
      },
      "outputs": [],
      "source": [
        "print(df.head().to_markdown())"
      ]
    },
    {
      "cell_type": "code",
      "execution_count": null,
      "metadata": {
        "colab": {
          "base_uri": "https://localhost:8080/"
        },
        "id": "A9TuBUf3sJow",
        "outputId": "6b6c9712-7ff5-437a-f79d-3c80e1597131"
      },
      "outputs": [],
      "source": [
        "print(df.head().to_latex())"
      ]
    },
    {
      "cell_type": "code",
      "execution_count": null,
      "metadata": {
        "colab": {
          "base_uri": "https://localhost:8080/"
        },
        "id": "f46f-kWUsNEI",
        "outputId": "064ce032-99bd-453b-a0f8-6c581e460594"
      },
      "outputs": [],
      "source": [
        "print(df.head(n = 3).to_html())"
      ]
    },
    {
      "cell_type": "code",
      "execution_count": null,
      "metadata": {
        "colab": {
          "base_uri": "https://localhost:8080/",
          "height": 334
        },
        "id": "HPAG8axBsYn5",
        "outputId": "dd1529e2-14e9-45a8-910c-0a5ced14de0c"
      },
      "outputs": [],
      "source": [
        "from sqlalchemy import create_engine\n",
        "import pandas as pd\n",
        "\n",
        "# Creează conexiunea către baza de date SQLite\n",
        "engine = create_engine(\"sqlite:///my_database.db\")\n",
        "\n",
        "# Creează un DataFrame de test\n",
        "df = pd.DataFrame({\n",
        "    \"id\": [1, 2, 3],\n",
        "    \"name\": [\"Alice\", \"Bob\", \"Charlie\"],\n",
        "    \"age\": [25, 30, 35]\n",
        "})\n",
        "\n",
        "# Salvează DataFrame-ul în SQL\n",
        "df.to_sql(name=\"users\", con=engine, if_exists=\"replace\", index=False)\n",
        "\n",
        "# check out https://pandas.pydata.org/pandas-docs/stable/reference/api/pandas.DataFrame.to_sql.html"
      ]
    },
    {
      "cell_type": "markdown",
      "metadata": {
        "id": "duG1FFt-Gfbc"
      },
      "source": [
        "## Pandas Plotting\n",
        "\n",
        "Pandas offers a convenient API for plotting data directly from a DataFrame. Of course, the plotting API is build upon `matplotlib` as a low level backend. We can use that to manipulate plots as in the previous lab.\n",
        "Check out the official documentation for visualization:\n",
        "\n",
        "[Pandas Plotting Docs](https://pandas.pydata.org/pandas-docs/stable/user_guide/visualization.html#visualization)\n",
        "\n",
        "\n",
        "For a quick reference, check the official cookbook.\n",
        "\n",
        "[Pandas Plotting Cookbook](https://pandas.pydata.org/pandas-docs/stable/user_guide/cookbook.html#cookbook-plotting)\n",
        "\n",
        "We will use the high level plotting API to visualize the Iris Dataset."
      ]
    },
    {
      "cell_type": "code",
      "execution_count": null,
      "metadata": {
        "colab": {
          "base_uri": "https://localhost:8080/",
          "height": 283
        },
        "id": "WrDQRNhvIUDS",
        "outputId": "0fbaf38f-4e2f-4a3b-c069-6647f7cd288d"
      },
      "outputs": [],
      "source": [
        "file_name = \"https://raw.githubusercontent.com/uiuc-cse/data-fa14/gh-pages/data/iris.csv\"\n",
        "\n",
        "df = pd.read_csv(file_name)\n",
        "df.head(n = 10)\n",
        "\n",
        "print(df.columns)\n",
        "df['sepal_length'].plot()"
      ]
    },
    {
      "cell_type": "code",
      "execution_count": null,
      "metadata": {
        "colab": {
          "base_uri": "https://localhost:8080/",
          "height": 283
        },
        "id": "kBxAxglaIFub",
        "outputId": "c8cfb99c-1a27-4052-9734-d543a1fcbcb4"
      },
      "outputs": [],
      "source": [
        "df[['sepal_width', 'sepal_length']].plot()"
      ]
    },
    {
      "cell_type": "code",
      "execution_count": null,
      "metadata": {
        "colab": {
          "base_uri": "https://localhost:8080/",
          "height": 294
        },
        "id": "TZuMH1OvtT7m",
        "outputId": "0e375b0e-226e-4a16-d139-444db041e4d9"
      },
      "outputs": [],
      "source": [
        "fig, ax = plt.subplots(1, 2)\n",
        "\n",
        "df['sepal_width'].plot(ax = ax[0], color = 'r')\n",
        "df['sepal_length'].plot(ax = ax[1], linestyle = '-.')\n",
        "\n",
        "ax[0].set_title('Sepal Widths')\n",
        "ax[1].set_title('Sepal Lengths')\n",
        "\n",
        "ax[0].set_xlabel('Index in dataframe')\n",
        "ax[1].set_xlabel('Index in dataframe')\n",
        "\n",
        "ax[0].set_ylabel('centimeters')\n",
        "ax[1].set_ylabel('centimeters')\n",
        "\n",
        "\n",
        "fig.set_size_inches(15, 4)"
      ]
    },
    {
      "cell_type": "code",
      "execution_count": null,
      "metadata": {
        "colab": {
          "base_uri": "https://localhost:8080/",
          "height": 282
        },
        "id": "Y-YfThgRIY55",
        "outputId": "42ec99bb-b954-4d49-aa93-3dce473cdfc5"
      },
      "outputs": [],
      "source": [
        "df[['petal_width', 'petal_length']].plot.hist(alpha = 0.5, bins = 15)"
      ]
    },
    {
      "cell_type": "code",
      "execution_count": null,
      "metadata": {
        "colab": {
          "base_uri": "https://localhost:8080/",
          "height": 282
        },
        "id": "J9E-8dxEIkLD",
        "outputId": "f9e8191b-3cb8-4be7-be27-c48b6669f2ec"
      },
      "outputs": [],
      "source": [
        "df[['petal_length', 'petal_width']].plot.kde()"
      ]
    },
    {
      "cell_type": "markdown",
      "metadata": {
        "id": "DtWe2U2pG1hv"
      },
      "source": [
        "## Cool Plots using Seaborn & Pandas\n",
        "\n",
        "\n",
        "Check out [seaborn](https://seaborn.pydata.org/examples/index.html) for more awesome plots."
      ]
    },
    {
      "cell_type": "code",
      "execution_count": null,
      "metadata": {
        "id": "EaNJA-EkJtCx"
      },
      "outputs": [],
      "source": [
        "import seaborn as sns\n",
        "\n",
        "sns.set_theme()"
      ]
    },
    {
      "cell_type": "code",
      "execution_count": null,
      "metadata": {
        "colab": {
          "base_uri": "https://localhost:8080/",
          "height": 454
        },
        "id": "BoRexLs9JxhQ",
        "outputId": "331f57a9-567a-48e1-f6bc-8d4a13befd15"
      },
      "outputs": [],
      "source": [
        "print(df.columns)\n",
        "df['sepal_area'] = df['sepal_length'] * df['sepal_width']\n",
        "sns.jointplot(x = 'sepal_width', y = 'sepal_area', data = df, kind = 'reg')"
      ]
    },
    {
      "cell_type": "code",
      "execution_count": null,
      "metadata": {
        "colab": {
          "base_uri": "https://localhost:8080/",
          "height": 454
        },
        "id": "vXwroN6OuKXI",
        "outputId": "bf471988-91f0-479e-cb95-380725e3f28e"
      },
      "outputs": [],
      "source": [
        "sns.jointplot(x = 'sepal_width', y = 'sepal_area', data = df, kind = 'hex')"
      ]
    },
    {
      "cell_type": "code",
      "execution_count": null,
      "metadata": {
        "colab": {
          "base_uri": "https://localhost:8080/",
          "height": 472
        },
        "id": "iaxAAdzpvONk",
        "outputId": "0137ba65-dc7a-4227-8d4f-512de590b1c4"
      },
      "outputs": [],
      "source": [
        "sns.relplot(x=\"sepal_width\", y=\"sepal_area\", hue=\"species\", size=\"sepal_length\", sizes=(40, 400), alpha=.5, height=6, data=df)"
      ]
    },
    {
      "cell_type": "code",
      "execution_count": null,
      "metadata": {
        "colab": {
          "base_uri": "https://localhost:8080/",
          "height": 901
        },
        "id": "qlxKvQNZKHh6",
        "outputId": "801f3f91-b0f8-470b-89f6-e1939ea20938"
      },
      "outputs": [],
      "source": [
        "grid = sns.pairplot(df, hue = 'species')"
      ]
    },
    {
      "cell_type": "code",
      "execution_count": null,
      "metadata": {
        "colab": {
          "base_uri": "https://localhost:8080/",
          "height": 382
        },
        "id": "pysUD525uyLc",
        "outputId": "0a18d834-61d3-4806-eb49-b56b43fa27cc"
      },
      "outputs": [],
      "source": [
        "sns.displot(data = df, x = 'sepal_width', kind = 'kde', hue = 'species')"
      ]
    },
    {
      "cell_type": "code",
      "execution_count": null,
      "metadata": {
        "colab": {
          "base_uri": "https://localhost:8080/",
          "height": 382
        },
        "id": "17MyWLQlu9tl",
        "outputId": "56a80a51-caa8-480d-b003-c82291afc814"
      },
      "outputs": [],
      "source": [
        "sns.displot(data = df, x = 'sepal_width', kind = 'kde', hue = 'species', multiple = 'fill')"
      ]
    },
    {
      "cell_type": "code",
      "execution_count": null,
      "metadata": {
        "colab": {
          "base_uri": "https://localhost:8080/",
          "height": 350
        },
        "id": "idgXVGC4KZaj",
        "outputId": "f1f97423-57c8-4311-d606-997b422c399f"
      },
      "outputs": [],
      "source": [
        "# Transformă coloanele categorice în numerice (One-Hot Encoding)\n",
        "df_encoded = pd.get_dummies(df, drop_first=True)\n",
        "\n",
        "# Creează heatmap-ul\n",
        "sns.heatmap(df_encoded.corr(), annot=True, cmap=\"coolwarm\", fmt=\".2f\")\n",
        "plt.show()"
      ]
    },
    {
      "cell_type": "code",
      "execution_count": null,
      "metadata": {
        "colab": {
          "base_uri": "https://localhost:8080/",
          "height": 286
        },
        "id": "YQOnsWkjKwHE",
        "outputId": "bdd7229f-9f88-4b21-98c1-60a30412cb8d"
      },
      "outputs": [],
      "source": [
        "sns.violinplot(data=df[['sepal_length', 'sepal_width', 'petal_length', 'petal_width']], palette=\"light:g\", inner=\"points\", orient=\"h\")"
      ]
    },
    {
      "cell_type": "markdown",
      "metadata": {
        "id": "XdUaQhhuG7Do"
      },
      "source": [
        "## 3D Plotting"
      ]
    },
    {
      "cell_type": "code",
      "execution_count": null,
      "metadata": {
        "id": "oSH4PXwyMK1o"
      },
      "outputs": [],
      "source": [
        "from mpl_toolkits.mplot3d import Axes3D\n",
        "print(df.head())"
      ]
    },
    {
      "cell_type": "code",
      "execution_count": null,
      "metadata": {
        "colab": {
          "base_uri": "https://localhost:8080/",
          "height": 265
        },
        "id": "JAQsqnl8MN2s",
        "outputId": "9bb50350-7107-4241-e794-167019da8133"
      },
      "outputs": [],
      "source": [
        "fig = plt.figure()\n",
        "ax = fig.add_subplot(111, projection='3d')\n",
        "\n",
        "ax.scatter(df['petal_length'], df['petal_width'], df['sepal_width'], zdir='z', s=20, c=df['species'].astype('category').cat.codes, depthshade=True)"
      ]
    },
    {
      "cell_type": "markdown",
      "metadata": {
        "id": "WDwuASK1HD-C"
      },
      "source": [
        "# Exercises\n",
        "\n",
        "After you finish your lab exercises, you should export this notebook as **pdf** and upload it to Moodle. (i.e. **File -> Print**, Destintation: Save as PDF).\n",
        "\n",
        "In this lab, we will look at COVID data for Romania. The data was retrieved from https://graphs.ro/."
      ]
    },
    {
      "cell_type": "code",
      "execution_count": null,
      "metadata": {
        "id": "cWNEtIAyxrWP"
      },
      "outputs": [],
      "source": [
        "import requests\n",
        "import json\n",
        "\n",
        "covid_data = json.loads(requests.get('https://www.graphs.ro/json.php').content)\n",
        "\n",
        "covid_df = pd.DataFrame(covid_data['covid_romania'])\n",
        "covid_df.head()\n",
        "\n",
        "covid_county_data_dfs = []\n",
        "\n",
        "for i, row in covid_df.iterrows():\n",
        "  try: # some days have no county information\n",
        "    county_df = pd.DataFrame(row['county_data'])\n",
        "  except:\n",
        "    continue\n",
        "\n",
        "  county_df['reporting_date'] = row['reporting_date']\n",
        "  covid_county_data_dfs.append(county_df)\n",
        "\n",
        "\n",
        "county_df = pd.concat(covid_county_data_dfs)\n",
        "covid_df = covid_df.drop(['sourceUrl', 'county_data'], axis = 1)"
      ]
    },
    {
      "cell_type": "code",
      "execution_count": null,
      "metadata": {
        "colab": {
          "base_uri": "https://localhost:8080/",
          "height": 217
        },
        "id": "ab61lS3E2Hl8",
        "outputId": "24851ab3-0b87-45e8-f6db-e1a78eb6484e"
      },
      "outputs": [],
      "source": [
        "covid_df.head()"
      ]
    },
    {
      "cell_type": "code",
      "execution_count": null,
      "metadata": {
        "colab": {
          "base_uri": "https://localhost:8080/",
          "height": 197
        },
        "id": "nuJdKpHA2KTt",
        "outputId": "1fdba9a1-413c-48f0-aae1-b525910f33dd"
      },
      "outputs": [],
      "source": [
        "county_df[:10]"
      ]
    },
    {
      "cell_type": "markdown",
      "metadata": {
        "id": "kgkinxYGy_KH"
      },
      "source": [
        "# 1. Basic Visualizations\n",
        "\n",
        "Make 4 subplots. Using pandas as seaborn, plot the number of new cases in a day, the number of recovered patients in day, number of tests in a day, and the number of deaths in day. We are trying to explore the evolution of COVID from the start of the pandemic until today.\n",
        "\n",
        "**NB:** Make sure to add proper labels, title, axes and legend where necessary."
      ]
    },
    {
      "cell_type": "code",
      "execution_count": null,
      "metadata": {
        "id": "B9V7OKgvzb4F"
      },
      "outputs": [],
      "source": [
        "fig, axes = plt.subplots(2, 2, figsize=(14, 10))\n",
        "\n",
        "# Number of new cases per day\n",
        "sns.lineplot(ax=axes[0, 0], x=covid_df['reporting_date'], y=covid_df['new_cases_today'])\n",
        "axes[0, 0].set_title(\"New Cases per Day\")\n",
        "\n",
        "# Number of recovered patients per day\n",
        "sns.lineplot(ax=axes[0, 1], x=covid_df['reporting_date'], y=covid_df['new_recovered_today'])\n",
        "axes[0, 1].set_title(\"Recovered Patients per Day\")\n",
        "\n",
        "# Number of tests per day\n",
        "sns.lineplot(ax=axes[1, 0], x=covid_df['reporting_date'], y=covid_df['new_tests_today'])\n",
        "axes[1, 0].set_title(\"Tests per Day\")\n",
        "\n",
        "# Number of deaths per day\n",
        "sns.lineplot(ax=axes[1, 1], x=covid_df['reporting_date'], y=covid_df['new_deaths_today'])\n",
        "axes[1, 1].set_title(\"Deaths per Day\")\n",
        "\n",
        "plt.tight_layout()\n",
        "plt.show()"
      ]
    },
    {
      "cell_type": "markdown",
      "metadata": {
        "id": "dYX63wdzzelf"
      },
      "source": [
        "# 2. Positive testing percentage\n",
        "\n",
        "Using `pandas`, create a new column that computes the percentage of positive tests in a given day. This new column should be the number of infected people in a day over the number of tests per day.\n",
        "\n",
        "Plot the evolution of positive tests across time. Compare this to the number of hospitalized patients. \n",
        "\n",
        "In a different plot, visualize the correlation between positive tests and the number of intensive care patients.\n",
        "\n",
        "**NB:** Make sure to add proper labels, title, axes and legend where necessary.\n"
      ]
    },
    {
      "cell_type": "code",
      "execution_count": null,
      "metadata": {
        "id": "8XkK4mcUzdxk"
      },
      "outputs": [],
      "source": [
        "covid_df['positive_percentage'] = (covid_df['new_cases_today'] / covid_df['new_tests_today']) * 100\n",
        "\n",
        "# Evolution of positive testing percentage over time\n",
        "plt.figure(figsize=(12, 6))\n",
        "sns.lineplot(x=covid_df['reporting_date'], y=covid_df['positive_percentage'])\n",
        "plt.title(\"Positive Testing Percentage Over Time\")\n",
        "plt.xlabel(\"Date\")\n",
        "plt.ylabel(\"Percentage of Positive Tests\")\n",
        "plt.grid(True)\n",
        "plt.show()\n",
        "\n",
        "# Compare between positive tests and hospitalized patients\n",
        "plt.figure(figsize=(12, 6))\n",
        "sns.lineplot(x=covid_df['reporting_date'], y=covid_df['positive_percentage'], label=\"Positive Testing Percentage\")\n",
        "sns.lineplot(x=covid_df['reporting_date'], y=covid_df['infected_hospitalized'], label=\"Hospitalized Patients\")\n",
        "plt.title(\"Positive Tests vs Hospitalized Patients\")\n",
        "plt.xlabel(\"Date\")\n",
        "plt.ylabel(\"Count\")\n",
        "plt.legend()\n",
        "plt.grid(True)\n",
        "plt.show()\n",
        "\n",
        "# Correlation between positive tests and hospitalized patients\n",
        "plt.figure(figsize=(8, 6))\n",
        "sns.scatterplot(x=covid_df['positive_percentage'], y=covid_df['infected_hospitalized'])\n",
        "plt.title(\"Correlation between Positive Tests and Hospitalized Patients\")\n",
        "plt.xlabel(\"Positive Testing Percentage\")\n",
        "plt.ylabel(\"Hospitalized Patients\")\n",
        "plt.grid(True)\n",
        "plt.show()"
      ]
    },
    {
      "cell_type": "markdown",
      "metadata": {
        "id": "TIG_tNXG0yeN"
      },
      "source": [
        "# 3. County Information\n",
        "\n",
        "Select at least 10 counties of your choosing, and plot the evolution of cases across time. \n",
        "\n",
        "Plot the number of positive cases on 1000 persons for each of your selected counties. Plot a horizontal line at the 3 / 1000 mark. When the number of positive cases per 1000 persons exceeds 3 / 1000, color your points in a different color from that point onwards.\n",
        "\n",
        "\n",
        "**NB:** Make sure to add proper labels, title, axes and legend where necessary.\n"
      ]
    },
    {
      "cell_type": "code",
      "execution_count": null,
      "metadata": {},
      "outputs": [],
      "source": [
        "county_df['reporting_date'] = pd.to_datetime(county_df['reporting_date'])\n",
        "\n",
        "selected_counties = ['Alba', 'Arad', 'Arges', 'Bacau', 'Bihor', 'Brasov', 'Braila', 'Buzau', 'Cluj', 'Timis']\n",
        "df_selected = county_df[county_df['county_name'].isin(selected_counties)].copy()\n",
        "\n",
        "df_selected['cases_per_1000'] = (df_selected['total_cases'] / df_selected['county_population']) * 1000\n",
        "\n",
        "plt.figure(figsize=(14, 7))\n",
        "ax = sns.lineplot(x=df_selected['reporting_date'], y=df_selected['cases_per_1000'], hue=df_selected['county_name'])\n",
        "\n",
        "num_ticks = 10\n",
        "date_indices = np.linspace(0, len(df_selected['reporting_date']) - 1, num=num_ticks, dtype=int)\n",
        "selected_dates = df_selected['reporting_date'].iloc[date_indices]\n",
        "\n",
        "ax.set_xticks(selected_dates)\n",
        "ax.set_xticklabels(selected_dates.dt.strftime('%Y-%m-%d'), rotation=45, ha=\"right\")\n",
        "\n",
        "plt.axhline(3, color='red', linestyle='--', label=\"3/1000 Threshold\")\n",
        "\n",
        "plt.title(\"Total COVID Cases per 1000 Persons in Selected Counties\")\n",
        "plt.xlabel(\"Date\")\n",
        "plt.ylabel(\"Total Cases per 1000 Persons\")\n",
        "plt.legend()\n",
        "plt.grid(True)\n",
        "\n",
        "plt.show()"
      ]
    },
    {
      "cell_type": "markdown",
      "metadata": {
        "id": "flmfFu412yAa"
      },
      "source": [
        "# BONUS\n",
        "\n",
        "Further expore the dataset, and come up with interesting visualizations of the COVID evolution in Romania."
      ]
    },
    {
      "cell_type": "code",
      "execution_count": null,
      "metadata": {
        "id": "7Ap-NWbv266P"
      },
      "outputs": [],
      "source": [
        "correlation_matrix = covid_df[['new_cases_today', 'new_recovered_today', 'new_tests_today', 'new_deaths_today']].corr()\n",
        "\n",
        "# Histogram for positive testing percentage\n",
        "plt.figure(figsize=(10, 6))\n",
        "sns.histplot(covid_df['positive_percentage'], bins=30, kde=True)\n",
        "plt.title(\"Distribution of Positive Testing Percentage\")\n",
        "plt.xlabel(\"Positive Testing Percentage\")\n",
        "plt.ylabel(\"Frequency\")\n",
        "plt.show()\n",
        "\n",
        "# Heatmap for correlations between numerical variables\n",
        "plt.figure(figsize=(10, 6))\n",
        "sns.heatmap(correlation_matrix, annot=True, cmap=\"coolwarm\", fmt=\".2f\")\n",
        "plt.title(\"Correlation Heatmap\")\n",
        "plt.show()\n",
        "\n",
        "# Boxplot for COVID cases per 1000 people in different counties\n",
        "plt.figure(figsize=(12, 6))\n",
        "sns.boxplot(x=df_selected['county_name'], y=df_selected['cases_per_1000'])\n",
        "plt.xticks(rotation=45)\n",
        "plt.title(\"Comparison of COVID Cases per 1000 Persons in Counties\")\n",
        "plt.xlabel(\"County\")\n",
        "plt.ylabel(\"Cases per 1000\")\n",
        "plt.grid(True)\n",
        "plt.show()\n"
      ]
    }
  ],
  "metadata": {
    "colab": {
      "authorship_tag": "ABX9TyOKEVbKiov+yTN4USscQnTP",
      "collapsed_sections": [],
      "include_colab_link": true,
      "name": "EP - Plotting II.ipynb",
      "provenance": []
    },
    "kernelspec": {
      "display_name": "Python 3",
      "name": "python3"
    },
    "language_info": {
      "codemirror_mode": {
        "name": "ipython",
        "version": 3
      },
      "file_extension": ".py",
      "mimetype": "text/x-python",
      "name": "python",
      "nbconvert_exporter": "python",
      "pygments_lexer": "ipython3",
      "version": "3.12.6"
    }
  },
  "nbformat": 4,
  "nbformat_minor": 0
}
